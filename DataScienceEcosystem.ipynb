{
 "cells": [
  {
   "cell_type": "code",
   "execution_count": 10,
   "id": "c8162fbb",
   "metadata": {},
   "outputs": [],
   "source": [
    "# 2. Creating a markdown cell with title of the notebook"
   ]
  },
  {
   "cell_type": "markdown",
   "id": "75dd76eb",
   "metadata": {},
   "source": [
    "# Data Science Course 2 Module 6 Assignment"
   ]
  },
  {
   "cell_type": "code",
   "execution_count": 11,
   "id": "dcebc725",
   "metadata": {},
   "outputs": [],
   "source": [
    "# 3. Creating a markdown cell for an introduction "
   ]
  },
  {
   "cell_type": "markdown",
   "id": "770ec405",
   "metadata": {},
   "source": [
    "In this assignment, we write the basic instructions for creating markdowns, arithmatic expressions converting minutes to hours and many more. "
   ]
  },
  {
   "cell_type": "code",
   "execution_count": 12,
   "id": "71609e26",
   "metadata": {},
   "outputs": [],
   "source": [
    "# 4. Creating markdown cell to list data science languages"
   ]
  },
  {
   "cell_type": "markdown",
   "id": "e4b3ce86",
   "metadata": {},
   "source": [
    "Some of the popular languages that is used in Data Science are:\n",
    "1. R \n",
    "2. Python \n",
    "3. Scala\n",
    "4. Julia\n",
    "5. SQL\n",
    "6. C++\n",
    "7. Javascript \n",
    "8. PHP\n",
    "9. Go\n",
    "10. Ruby \n",
    "11. VisualBasics"
   ]
  },
  {
   "cell_type": "code",
   "execution_count": 13,
   "id": "75238d60",
   "metadata": {},
   "outputs": [],
   "source": [
    "# 5. Creating markdown cell to list data science libraries"
   ]
  },
  {
   "cell_type": "markdown",
   "id": "053e3f86",
   "metadata": {},
   "source": [
    "Some of the commonly used data science libraries are:\n",
    "1. Numpy\n",
    "2. Pandas\n",
    "3. Matplotlib\n",
    "4. Scipy "
   ]
  },
  {
   "cell_type": "code",
   "execution_count": 14,
   "id": "3d317bec",
   "metadata": {},
   "outputs": [],
   "source": [
    "# 6. Creating markdown cell with a table of Data Science tools"
   ]
  },
  {
   "cell_type": "markdown",
   "id": "9ddb7bb9",
   "metadata": {},
   "source": [
    "Data Science Tools \n",
    "\n",
    "1. Watson Studio Desktop \n",
    "2. Informatica Cloud Data Integration\n",
    "3. IBMs Data Refinery "
   ]
  },
  {
   "cell_type": "code",
   "execution_count": 15,
   "id": "5face56c",
   "metadata": {},
   "outputs": [],
   "source": [
    "# 7. Creating a markdown cell using arithmetic expression"
   ]
  },
  {
   "cell_type": "markdown",
   "id": "6684fb3e",
   "metadata": {},
   "source": [
    "2+3 = 5"
   ]
  },
  {
   "cell_type": "code",
   "execution_count": 16,
   "id": "09fffd28",
   "metadata": {},
   "outputs": [],
   "source": [
    "# 8. Creating a code cell for multiplying and adding the numbers"
   ]
  },
  {
   "cell_type": "code",
   "execution_count": 17,
   "id": "fdc85d8d",
   "metadata": {},
   "outputs": [
    {
     "name": "stdout",
     "output_type": "stream",
     "text": [
      "5\n",
      "6\n"
     ]
    }
   ],
   "source": [
    "a = 2+3\n",
    "b = 2*3\n",
    "print(a)\n",
    "print(b)"
   ]
  },
  {
   "cell_type": "code",
   "execution_count": 18,
   "id": "84004f46",
   "metadata": {},
   "outputs": [],
   "source": [
    "# 9. Creating a code cell for coverting minutes to hours"
   ]
  },
  {
   "cell_type": "code",
   "execution_count": 19,
   "id": "b2a238ca",
   "metadata": {},
   "outputs": [
    {
     "name": "stdout",
     "output_type": "stream",
     "text": [
      "2.066666666666667\n"
     ]
    }
   ],
   "source": [
    "x = 124\n",
    "y = x/60\n",
    "print(y)"
   ]
  },
  {
   "cell_type": "code",
   "execution_count": 20,
   "id": "e954540f",
   "metadata": {},
   "outputs": [],
   "source": [
    "# 10. Inserting a markdown cell to list the objectives"
   ]
  },
  {
   "cell_type": "markdown",
   "id": "00315686",
   "metadata": {},
   "source": [
    "Objective of this assesment is to create the markdown cells to list data science languages, libraries, tools, aritmetic expression. And also to create code cells to multipy and numbers, converting minutes to hours."
   ]
  },
  {
   "cell_type": "code",
   "execution_count": 21,
   "id": "1dcfa6ac",
   "metadata": {},
   "outputs": [],
   "source": [
    "# 11. Creating the markdown cell to mention the author name"
   ]
  },
  {
   "cell_type": "markdown",
   "id": "9ccdc4b1",
   "metadata": {},
   "source": [
    "Author: Yashaswini Raju"
   ]
  },
  {
   "cell_type": "code",
   "execution_count": null,
   "id": "edce50fa",
   "metadata": {},
   "outputs": [],
   "source": []
  }
 ],
 "metadata": {
  "kernelspec": {
   "display_name": "Python 3 (ipykernel)",
   "language": "python",
   "name": "python3"
  },
  "language_info": {
   "codemirror_mode": {
    "name": "ipython",
    "version": 3
   },
   "file_extension": ".py",
   "mimetype": "text/x-python",
   "name": "python",
   "nbconvert_exporter": "python",
   "pygments_lexer": "ipython3",
   "version": "3.9.12"
  }
 },
 "nbformat": 4,
 "nbformat_minor": 5
}
